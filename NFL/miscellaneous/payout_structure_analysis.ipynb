{
 "cells": [
  {
   "cell_type": "code",
   "execution_count": 81,
   "metadata": {
    "collapsed": true
   },
   "outputs": [],
   "source": [
    "import pandas as pd\n",
    "import matplotlib.pyplot as plt\n",
    "import scipy as sp\n",
    "import numpy as np\n",
    "import seaborn as sns\n",
    "sns.set(color_codes=True)\n",
    "%matplotlib inline"
   ]
  },
  {
   "cell_type": "code",
   "execution_count": 82,
   "metadata": {
    "collapsed": false
   },
   "outputs": [],
   "source": [
    "contests_file = pd.read_csv(\"/Users/alandu/Documents/DFS/NFL/data_warehouse/contests.csv\")"
   ]
  },
  {
   "cell_type": "code",
   "execution_count": 83,
   "metadata": {
    "collapsed": true
   },
   "outputs": [],
   "source": [
    "date = \"2017-09-10\""
   ]
  },
  {
   "cell_type": "code",
   "execution_count": 84,
   "metadata": {
    "collapsed": false
   },
   "outputs": [
    {
     "data": {
      "text/html": [
       "<div>\n",
       "<table border=\"1\" class=\"dataframe\">\n",
       "  <thead>\n",
       "    <tr style=\"text-align: right;\">\n",
       "      <th></th>\n",
       "      <th>level_0</th>\n",
       "      <th>index</th>\n",
       "      <th>Contest_ID</th>\n",
       "      <th>Contest_Name</th>\n",
       "      <th>Contest_Date</th>\n",
       "      <th>Max_Entry</th>\n",
       "      <th>Entry_Fee</th>\n",
       "      <th>Slate</th>\n",
       "      <th>Contest_Size</th>\n",
       "    </tr>\n",
       "  </thead>\n",
       "  <tbody>\n",
       "    <tr>\n",
       "      <th>0</th>\n",
       "      <td>0</td>\n",
       "      <td>34</td>\n",
       "      <td>43229171</td>\n",
       "      <td>NFL $5.55M Fantasy Football Millionaire [$1M t...</td>\n",
       "      <td>2017-09-10</td>\n",
       "      <td>150</td>\n",
       "      <td>$20.00</td>\n",
       "      <td>Sun 100PM</td>\n",
       "      <td>321130.0</td>\n",
       "    </tr>\n",
       "    <tr>\n",
       "      <th>1</th>\n",
       "      <td>2</td>\n",
       "      <td>39</td>\n",
       "      <td>43231803</td>\n",
       "      <td>NFL $500K Post Pattern</td>\n",
       "      <td>2017-09-10</td>\n",
       "      <td>150</td>\n",
       "      <td>$8.00</td>\n",
       "      <td>Sun 100PM</td>\n",
       "      <td>73529.0</td>\n",
       "    </tr>\n",
       "    <tr>\n",
       "      <th>2</th>\n",
       "      <td>5</td>\n",
       "      <td>45</td>\n",
       "      <td>43231797</td>\n",
       "      <td>NFL $100K Flea Flicker</td>\n",
       "      <td>2017-09-10</td>\n",
       "      <td>150</td>\n",
       "      <td>$5.00</td>\n",
       "      <td>Sun 100PM</td>\n",
       "      <td>23529.0</td>\n",
       "    </tr>\n",
       "  </tbody>\n",
       "</table>\n",
       "</div>"
      ],
      "text/plain": [
       "   level_0  index  Contest_ID  \\\n",
       "0        0     34    43229171   \n",
       "1        2     39    43231803   \n",
       "2        5     45    43231797   \n",
       "\n",
       "                                        Contest_Name Contest_Date  Max_Entry  \\\n",
       "0  NFL $5.55M Fantasy Football Millionaire [$1M t...   2017-09-10        150   \n",
       "1                             NFL $500K Post Pattern   2017-09-10        150   \n",
       "2                             NFL $100K Flea Flicker   2017-09-10        150   \n",
       "\n",
       "  Entry_Fee      Slate  Contest_Size  \n",
       "0    $20.00  Sun 100PM      321130.0  \n",
       "1     $8.00  Sun 100PM       73529.0  \n",
       "2     $5.00  Sun 100PM       23529.0  "
      ]
     },
     "execution_count": 84,
     "metadata": {},
     "output_type": "execute_result"
    }
   ],
   "source": [
    "contests_file = contests_file[(contests_file['Max_Entry'] == 150) & (contests_file['Contest_Date'] == date)]\n",
    "contests_file = contests_file.reset_index()\n",
    "contests_file = contests_file.drop(contests_file.index[[1,3,4,6,7]])\n",
    "contests_file = contests_file.reset_index()\n",
    "contests_file"
   ]
  },
  {
   "cell_type": "code",
   "execution_count": 85,
   "metadata": {
    "collapsed": false
   },
   "outputs": [
    {
     "name": "stdout",
     "output_type": "stream",
     "text": [
      "$20.00 contest\n",
      "payout percentage: 0.865000934201\n",
      "cashing percentage: 0.246959175412\n",
      "\n",
      "\n",
      "$8.00 contest\n",
      "payout percentage: 0.850004760027\n",
      "cashing percentage: 0.263977478274\n",
      "\n",
      "\n",
      "$5.00 contest\n",
      "payout percentage: 0.85001487526\n",
      "cashing percentage: 0.274554804709\n",
      "\n",
      "\n"
     ]
    }
   ],
   "source": [
    "for i in range(0, contests_file.shape[0]):\n",
    "    print(contests_file['Entry_Fee'][i] + \" contest\")\n",
    "    \n",
    "    payout_structure_df = pd.read_csv(\"/Users/alandu/Documents/DFS/NFL/data_warehouse/\" + date + \"/\" + contests_file['Entry_Fee'][i] + \"entry_\" + contests_file['Contest_Name'][i].replace(\" \", \"\") + \"/payout_structure.csv\")\n",
    "    \n",
    "    # payout percentage (total payout / total revenue from entries)\n",
    "    sum_payouts = sum((payout_structure_df[\"Place_hi\"] - payout_structure_df[\"Place_lo\"] + 1) * payout_structure_df[\"Payout\"])\n",
    "    revenue = contests_file['Contest_Size'][i] * float(contests_file['Entry_Fee'][i][1:])\n",
    "    contests_file.loc[i,'Payout_Pctg'] = sum_payouts / revenue\n",
    "    print(\"payout percentage: \" + str(sum_payouts / revenue))\n",
    "    \n",
    "    # min cashing percentile\n",
    "    contests_file.loc[i,'Cashing_Pctg'] = (payout_structure_df.loc[payout_structure_df.shape[0]-1,'Place_hi']) / contests_file['Contest_Size'][i]\n",
    "    print(\"cashing percentage: \" + str((payout_structure_df.loc[payout_structure_df.shape[0]-1,'Place_hi']) / contests_file['Contest_Size'][i]))\n",
    "    print(\"\\n\")"
   ]
  },
  {
   "cell_type": "code",
   "execution_count": 104,
   "metadata": {
    "collapsed": false
   },
   "outputs": [
    {
     "data": {
      "text/html": [
       "<div>\n",
       "<table border=\"1\" class=\"dataframe\">\n",
       "  <thead>\n",
       "    <tr style=\"text-align: right;\">\n",
       "      <th></th>\n",
       "      <th>level_0</th>\n",
       "      <th>index</th>\n",
       "      <th>Contest_ID</th>\n",
       "      <th>Contest_Name</th>\n",
       "      <th>Contest_Date</th>\n",
       "      <th>Max_Entry</th>\n",
       "      <th>Entry_Fee</th>\n",
       "      <th>Slate</th>\n",
       "      <th>Contest_Size</th>\n",
       "      <th>Payout_Pctg</th>\n",
       "      <th>Cashing_Pctg</th>\n",
       "    </tr>\n",
       "  </thead>\n",
       "  <tbody>\n",
       "    <tr>\n",
       "      <th>0</th>\n",
       "      <td>0</td>\n",
       "      <td>34</td>\n",
       "      <td>43229171</td>\n",
       "      <td>NFL $5.55M Fantasy Football Millionaire [$1M t...</td>\n",
       "      <td>2017-09-10</td>\n",
       "      <td>150</td>\n",
       "      <td>$20.00</td>\n",
       "      <td>Sun 100PM</td>\n",
       "      <td>321130.0</td>\n",
       "      <td>0.865001</td>\n",
       "      <td>0.246959</td>\n",
       "    </tr>\n",
       "    <tr>\n",
       "      <th>1</th>\n",
       "      <td>2</td>\n",
       "      <td>39</td>\n",
       "      <td>43231803</td>\n",
       "      <td>NFL $500K Post Pattern</td>\n",
       "      <td>2017-09-10</td>\n",
       "      <td>150</td>\n",
       "      <td>$8.00</td>\n",
       "      <td>Sun 100PM</td>\n",
       "      <td>73529.0</td>\n",
       "      <td>0.850005</td>\n",
       "      <td>0.263977</td>\n",
       "    </tr>\n",
       "    <tr>\n",
       "      <th>2</th>\n",
       "      <td>5</td>\n",
       "      <td>45</td>\n",
       "      <td>43231797</td>\n",
       "      <td>NFL $100K Flea Flicker</td>\n",
       "      <td>2017-09-10</td>\n",
       "      <td>150</td>\n",
       "      <td>$5.00</td>\n",
       "      <td>Sun 100PM</td>\n",
       "      <td>23529.0</td>\n",
       "      <td>0.850015</td>\n",
       "      <td>0.274555</td>\n",
       "    </tr>\n",
       "  </tbody>\n",
       "</table>\n",
       "</div>"
      ],
      "text/plain": [
       "   level_0  index  Contest_ID  \\\n",
       "0        0     34    43229171   \n",
       "1        2     39    43231803   \n",
       "2        5     45    43231797   \n",
       "\n",
       "                                        Contest_Name Contest_Date  Max_Entry  \\\n",
       "0  NFL $5.55M Fantasy Football Millionaire [$1M t...   2017-09-10        150   \n",
       "1                             NFL $500K Post Pattern   2017-09-10        150   \n",
       "2                             NFL $100K Flea Flicker   2017-09-10        150   \n",
       "\n",
       "  Entry_Fee      Slate  Contest_Size  Payout_Pctg  Cashing_Pctg  \n",
       "0    $20.00  Sun 100PM      321130.0     0.865001      0.246959  \n",
       "1     $8.00  Sun 100PM       73529.0     0.850005      0.263977  \n",
       "2     $5.00  Sun 100PM       23529.0     0.850015      0.274555  "
      ]
     },
     "execution_count": 104,
     "metadata": {},
     "output_type": "execute_result"
    }
   ],
   "source": [
    "contests_file"
   ]
  },
  {
   "cell_type": "code",
   "execution_count": 103,
   "metadata": {
    "collapsed": false
   },
   "outputs": [
    {
     "name": "stdout",
     "output_type": "stream",
     "text": [
      "1.49999999936\n",
      "34.6165205749\n",
      "\n",
      "\n",
      "1.49999999976\n",
      "18.7720729542\n",
      "\n",
      "\n",
      "1.59999999975\n",
      "9.32857480094\n",
      "\n",
      "\n"
     ]
    }
   ],
   "source": [
    "for i in range(0, contests_file.shape[0]):\n",
    "\n",
    "#     i = 5\n",
    "\n",
    "    payout_structure_df = pd.read_csv(\"/Users/alandu/Documents/DFS/NFL/data_warehouse/\" + date + \"/\" + contests_file['Entry_Fee'][i] + \"entry_\" + contests_file['Contest_Name'][i].replace(\" \", \"\") + \"/payout_structure.csv\")\n",
    "    \n",
    "    payout_structure_df = payout_structure_df[-payout_structure_df.shape[0]+10:]\n",
    "    \n",
    "#     ax = sns.barplot(payout_structure_df.index, payout_structure_df[\"Payout\"])\n",
    "#     ax.set(xlabel='Index', ylabel='Payout')\n",
    "\n",
    "    loc, scale = sp.stats.expon.fit(payout_structure_df[\"Payout\"] / float(contests_file['Entry_Fee'][i][1:])) # , floc=0\n",
    "    print(loc)\n",
    "    print(scale)\n",
    "    print(\"\\n\")\n",
    "\n"
   ]
  },
  {
   "cell_type": "code",
   "execution_count": null,
   "metadata": {
    "collapsed": true
   },
   "outputs": [],
   "source": []
  }
 ],
 "metadata": {
  "kernelspec": {
   "display_name": "Python 3",
   "language": "python",
   "name": "python3"
  },
  "language_info": {
   "codemirror_mode": {
    "name": "ipython",
    "version": 3
   },
   "file_extension": ".py",
   "mimetype": "text/x-python",
   "name": "python",
   "nbconvert_exporter": "python",
   "pygments_lexer": "ipython3",
   "version": "3.6.0"
  }
 },
 "nbformat": 4,
 "nbformat_minor": 2
}
